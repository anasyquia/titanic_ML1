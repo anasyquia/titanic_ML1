{
 "cells": [
  {
   "cell_type": "markdown",
   "id": "e599dadeffbca8b7",
   "metadata": {},
   "source": [
    "# Titanic Classification Model\n",
    "\n",
    "Ana Sy-Quia<br>\n",
    "\n",
    "Winter 2024<br>\n",
    "\n",
    "Code was originally used for Machine Learning I at the University of Chicago"
   ]
  },
  {
   "cell_type": "code",
   "execution_count": 710,
   "id": "initial_id",
   "metadata": {
    "ExecuteTime": {
     "end_time": "2025-02-20T22:33:39.649897Z",
     "start_time": "2025-02-20T22:33:39.644234Z"
    },
    "collapsed": true,
    "jupyter": {
     "outputs_hidden": true
    }
   },
   "outputs": [],
   "source": [
    "# Import libraries\n",
    "import numpy as np\n",
    "import pandas as pd\n",
    "import matplotlib.pyplot as plt\n",
    "import seaborn as sns\n",
    "from sklearn.ensemble import GradientBoostingClassifier\n",
    "from sklearn.model_selection import train_test_split\n",
    "from sklearn.neighbors import KNeighborsClassifier\n",
    "import os"
   ]
  },
  {
   "cell_type": "code",
   "execution_count": 711,
   "id": "41d90ad30f234b47",
   "metadata": {
    "ExecuteTime": {
     "end_time": "2025-02-20T22:33:39.692185Z",
     "start_time": "2025-02-20T22:33:39.679322Z"
    }
   },
   "outputs": [
    {
     "data": {
      "text/html": [
       "<div>\n",
       "<style scoped>\n",
       "    .dataframe tbody tr th:only-of-type {\n",
       "        vertical-align: middle;\n",
       "    }\n",
       "\n",
       "    .dataframe tbody tr th {\n",
       "        vertical-align: top;\n",
       "    }\n",
       "\n",
       "    .dataframe thead th {\n",
       "        text-align: right;\n",
       "    }\n",
       "</style>\n",
       "<table border=\"1\" class=\"dataframe\">\n",
       "  <thead>\n",
       "    <tr style=\"text-align: right;\">\n",
       "      <th></th>\n",
       "      <th>PassengerId</th>\n",
       "      <th>Survived</th>\n",
       "      <th>Pclass</th>\n",
       "      <th>Name</th>\n",
       "      <th>Sex</th>\n",
       "      <th>Age</th>\n",
       "      <th>SibSp</th>\n",
       "      <th>Parch</th>\n",
       "      <th>Ticket</th>\n",
       "      <th>Fare</th>\n",
       "      <th>Cabin</th>\n",
       "      <th>Embarked</th>\n",
       "    </tr>\n",
       "  </thead>\n",
       "  <tbody>\n",
       "    <tr>\n",
       "      <th>0</th>\n",
       "      <td>1</td>\n",
       "      <td>0</td>\n",
       "      <td>3</td>\n",
       "      <td>Braund, Mr. Owen Harris</td>\n",
       "      <td>male</td>\n",
       "      <td>22.0</td>\n",
       "      <td>1</td>\n",
       "      <td>0</td>\n",
       "      <td>A/5 21171</td>\n",
       "      <td>7.2500</td>\n",
       "      <td>NaN</td>\n",
       "      <td>S</td>\n",
       "    </tr>\n",
       "    <tr>\n",
       "      <th>1</th>\n",
       "      <td>2</td>\n",
       "      <td>1</td>\n",
       "      <td>1</td>\n",
       "      <td>Cumings, Mrs. John Bradley (Florence Briggs Thayer)</td>\n",
       "      <td>female</td>\n",
       "      <td>38.0</td>\n",
       "      <td>1</td>\n",
       "      <td>0</td>\n",
       "      <td>PC 17599</td>\n",
       "      <td>71.2833</td>\n",
       "      <td>C85</td>\n",
       "      <td>C</td>\n",
       "    </tr>\n",
       "    <tr>\n",
       "      <th>2</th>\n",
       "      <td>3</td>\n",
       "      <td>1</td>\n",
       "      <td>3</td>\n",
       "      <td>Heikkinen, Miss. Laina</td>\n",
       "      <td>female</td>\n",
       "      <td>26.0</td>\n",
       "      <td>0</td>\n",
       "      <td>0</td>\n",
       "      <td>STON/O2. 3101282</td>\n",
       "      <td>7.9250</td>\n",
       "      <td>NaN</td>\n",
       "      <td>S</td>\n",
       "    </tr>\n",
       "    <tr>\n",
       "      <th>3</th>\n",
       "      <td>4</td>\n",
       "      <td>1</td>\n",
       "      <td>1</td>\n",
       "      <td>Futrelle, Mrs. Jacques Heath (Lily May Peel)</td>\n",
       "      <td>female</td>\n",
       "      <td>35.0</td>\n",
       "      <td>1</td>\n",
       "      <td>0</td>\n",
       "      <td>113803</td>\n",
       "      <td>53.1000</td>\n",
       "      <td>C123</td>\n",
       "      <td>S</td>\n",
       "    </tr>\n",
       "    <tr>\n",
       "      <th>4</th>\n",
       "      <td>5</td>\n",
       "      <td>0</td>\n",
       "      <td>3</td>\n",
       "      <td>Allen, Mr. William Henry</td>\n",
       "      <td>male</td>\n",
       "      <td>35.0</td>\n",
       "      <td>0</td>\n",
       "      <td>0</td>\n",
       "      <td>373450</td>\n",
       "      <td>8.0500</td>\n",
       "      <td>NaN</td>\n",
       "      <td>S</td>\n",
       "    </tr>\n",
       "  </tbody>\n",
       "</table>\n",
       "</div>"
      ],
      "text/plain": [
       "   PassengerId  Survived  Pclass  \\\n",
       "0            1         0       3   \n",
       "1            2         1       1   \n",
       "2            3         1       3   \n",
       "3            4         1       1   \n",
       "4            5         0       3   \n",
       "\n",
       "                                                  Name     Sex   Age  SibSp  \\\n",
       "0                              Braund, Mr. Owen Harris    male  22.0      1   \n",
       "1  Cumings, Mrs. John Bradley (Florence Briggs Thayer)  female  38.0      1   \n",
       "2                               Heikkinen, Miss. Laina  female  26.0      0   \n",
       "3         Futrelle, Mrs. Jacques Heath (Lily May Peel)  female  35.0      1   \n",
       "4                             Allen, Mr. William Henry    male  35.0      0   \n",
       "\n",
       "   Parch            Ticket     Fare Cabin Embarked  \n",
       "0      0         A/5 21171   7.2500   NaN        S  \n",
       "1      0          PC 17599  71.2833   C85        C  \n",
       "2      0  STON/O2. 3101282   7.9250   NaN        S  \n",
       "3      0            113803  53.1000  C123        S  \n",
       "4      0            373450   8.0500   NaN        S  "
      ]
     },
     "execution_count": 711,
     "metadata": {},
     "output_type": "execute_result"
    }
   ],
   "source": [
    "# print(os.getcwd())\n",
    "os.chdir('/Users/anasyquia/Downloads')\n",
    "\n",
    "# Read in data\n",
    "df = pd.read_csv('Assignment_3/Titanic_Survival/train.csv')\n",
    "\n",
    "df.head()"
   ]
  },
  {
   "cell_type": "code",
   "execution_count": 712,
   "id": "2c19d6d09ae9adec",
   "metadata": {
    "ExecuteTime": {
     "end_time": "2025-02-20T22:33:39.702364Z",
     "start_time": "2025-02-20T22:33:39.699380Z"
    }
   },
   "outputs": [
    {
     "data": {
      "text/plain": [
       "(891, 12)"
      ]
     },
     "execution_count": 712,
     "metadata": {},
     "output_type": "execute_result"
    }
   ],
   "source": [
    "df.shape"
   ]
  },
  {
   "cell_type": "code",
   "execution_count": 713,
   "id": "17642cb781c1581a",
   "metadata": {
    "ExecuteTime": {
     "end_time": "2025-02-20T22:33:39.748326Z",
     "start_time": "2025-02-20T22:33:39.735693Z"
    }
   },
   "outputs": [
    {
     "name": "stdout",
     "output_type": "stream",
     "text": [
      "<class 'pandas.core.frame.DataFrame'>\n",
      "RangeIndex: 891 entries, 0 to 890\n",
      "Data columns (total 12 columns):\n",
      " #   Column       Non-Null Count  Dtype  \n",
      "---  ------       --------------  -----  \n",
      " 0   PassengerId  891 non-null    int64  \n",
      " 1   Survived     891 non-null    int64  \n",
      " 2   Pclass       891 non-null    int64  \n",
      " 3   Name         891 non-null    object \n",
      " 4   Sex          891 non-null    object \n",
      " 5   Age          714 non-null    float64\n",
      " 6   SibSp        891 non-null    int64  \n",
      " 7   Parch        891 non-null    int64  \n",
      " 8   Ticket       891 non-null    object \n",
      " 9   Fare         891 non-null    float64\n",
      " 10  Cabin        204 non-null    object \n",
      " 11  Embarked     889 non-null    object \n",
      "dtypes: float64(2), int64(5), object(5)\n",
      "memory usage: 83.7+ KB\n"
     ]
    }
   ],
   "source": [
    "df.info()"
   ]
  },
  {
   "cell_type": "code",
   "execution_count": 714,
   "id": "a308f741c3c5e014",
   "metadata": {
    "ExecuteTime": {
     "end_time": "2025-02-20T22:33:39.775496Z",
     "start_time": "2025-02-20T22:33:39.772344Z"
    }
   },
   "outputs": [
    {
     "name": "stdout",
     "output_type": "stream",
     "text": [
      "PassengerId      0\n",
      "Survived         0\n",
      "Pclass           0\n",
      "Name             0\n",
      "Sex              0\n",
      "Age            177\n",
      "SibSp            0\n",
      "Parch            0\n",
      "Ticket           0\n",
      "Fare             0\n",
      "Cabin          687\n",
      "Embarked         2\n",
      "dtype: int64\n"
     ]
    }
   ],
   "source": [
    "print(df.isnull().sum())"
   ]
  },
  {
   "cell_type": "markdown",
   "id": "e8a4faacdd3b613f",
   "metadata": {},
   "source": [
    "# Handle missing values"
   ]
  },
  {
   "cell_type": "markdown",
   "id": "4247293b",
   "metadata": {},
   "source": [
    "### ***Embarked***"
   ]
  },
  {
   "cell_type": "code",
   "execution_count": 715,
   "id": "ea90ccd254879c5d",
   "metadata": {
    "ExecuteTime": {
     "end_time": "2025-02-20T22:33:39.795892Z",
     "start_time": "2025-02-20T22:33:39.792884Z"
    }
   },
   "outputs": [
    {
     "data": {
      "text/plain": [
       "Embarked\n",
       "S    644\n",
       "C    168\n",
       "Q     77\n",
       "Name: count, dtype: int64"
      ]
     },
     "execution_count": 715,
     "metadata": {},
     "output_type": "execute_result"
    }
   ],
   "source": [
    "df['Embarked'].value_counts()"
   ]
  },
  {
   "cell_type": "code",
   "execution_count": 716,
   "id": "41e762d7af7e94aa",
   "metadata": {
    "ExecuteTime": {
     "end_time": "2025-02-20T22:33:39.879854Z",
     "start_time": "2025-02-20T22:33:39.808359Z"
    }
   },
   "outputs": [
    {
     "data": {
      "image/png": "[encoded data removed]",
      "text/plain": [
       "<Figure size 640x480 with 1 Axes>"
      ]
     },
     "metadata": {},
     "output_type": "display_data"
    }
   ],
   "source": [
    "# Impute NAs with mode\n",
    "df['Embarked'] = df['Embarked'].fillna('S')\n",
    "sns.barplot(x=\"Embarked\", y=\"Survived\", data=df)\n",
    "plt.show()"
   ]
  },
  {
   "cell_type": "code",
   "execution_count": 717,
   "id": "da34f71b2c705e28",
   "metadata": {
    "ExecuteTime": {
     "end_time": "2025-02-20T22:33:39.890676Z",
     "start_time": "2025-02-20T22:33:39.884669Z"
    }
   },
   "outputs": [
    {
     "data": {
      "text/html": [
       "<div>\n",
       "<style scoped>\n",
       "    .dataframe tbody tr th:only-of-type {\n",
       "        vertical-align: middle;\n",
       "    }\n",
       "\n",
       "    .dataframe tbody tr th {\n",
       "        vertical-align: top;\n",
       "    }\n",
       "\n",
       "    .dataframe thead th {\n",
       "        text-align: right;\n",
       "    }\n",
       "</style>\n",
       "<table border=\"1\" class=\"dataframe\">\n",
       "  <thead>\n",
       "    <tr style=\"text-align: right;\">\n",
       "      <th></th>\n",
       "      <th>PassengerId</th>\n",
       "      <th>Survived</th>\n",
       "      <th>Pclass</th>\n",
       "      <th>Name</th>\n",
       "      <th>Sex</th>\n",
       "      <th>Age</th>\n",
       "      <th>SibSp</th>\n",
       "      <th>Parch</th>\n",
       "      <th>Ticket</th>\n",
       "      <th>Fare</th>\n",
       "      <th>Cabin</th>\n",
       "      <th>Embarked</th>\n",
       "    </tr>\n",
       "  </thead>\n",
       "  <tbody>\n",
       "    <tr>\n",
       "      <th>0</th>\n",
       "      <td>1</td>\n",
       "      <td>0</td>\n",
       "      <td>3</td>\n",
       "      <td>Braund, Mr. Owen Harris</td>\n",
       "      <td>male</td>\n",
       "      <td>22.0</td>\n",
       "      <td>1</td>\n",
       "      <td>0</td>\n",
       "      <td>A/5 21171</td>\n",
       "      <td>7.2500</td>\n",
       "      <td>NaN</td>\n",
       "      <td>1</td>\n",
       "    </tr>\n",
       "    <tr>\n",
       "      <th>1</th>\n",
       "      <td>2</td>\n",
       "      <td>1</td>\n",
       "      <td>1</td>\n",
       "      <td>Cumings, Mrs. John Bradley (Florence Briggs Thayer)</td>\n",
       "      <td>female</td>\n",
       "      <td>38.0</td>\n",
       "      <td>1</td>\n",
       "      <td>0</td>\n",
       "      <td>PC 17599</td>\n",
       "      <td>71.2833</td>\n",
       "      <td>C85</td>\n",
       "      <td>2</td>\n",
       "    </tr>\n",
       "    <tr>\n",
       "      <th>2</th>\n",
       "      <td>3</td>\n",
       "      <td>1</td>\n",
       "      <td>3</td>\n",
       "      <td>Heikkinen, Miss. Laina</td>\n",
       "      <td>female</td>\n",
       "      <td>26.0</td>\n",
       "      <td>0</td>\n",
       "      <td>0</td>\n",
       "      <td>STON/O2. 3101282</td>\n",
       "      <td>7.9250</td>\n",
       "      <td>NaN</td>\n",
       "      <td>1</td>\n",
       "    </tr>\n",
       "    <tr>\n",
       "      <th>3</th>\n",
       "      <td>4</td>\n",
       "      <td>1</td>\n",
       "      <td>1</td>\n",
       "      <td>Futrelle, Mrs. Jacques Heath (Lily May Peel)</td>\n",
       "      <td>female</td>\n",
       "      <td>35.0</td>\n",
       "      <td>1</td>\n",
       "      <td>0</td>\n",
       "      <td>113803</td>\n",
       "      <td>53.1000</td>\n",
       "      <td>C123</td>\n",
       "      <td>1</td>\n",
       "    </tr>\n",
       "    <tr>\n",
       "      <th>4</th>\n",
       "      <td>5</td>\n",
       "      <td>0</td>\n",
       "      <td>3</td>\n",
       "      <td>Allen, Mr. William Henry</td>\n",
       "      <td>male</td>\n",
       "      <td>35.0</td>\n",
       "      <td>0</td>\n",
       "      <td>0</td>\n",
       "      <td>373450</td>\n",
       "      <td>8.0500</td>\n",
       "      <td>NaN</td>\n",
       "      <td>1</td>\n",
       "    </tr>\n",
       "  </tbody>\n",
       "</table>\n",
       "</div>"
      ],
      "text/plain": [
       "   PassengerId  Survived  Pclass  \\\n",
       "0            1         0       3   \n",
       "1            2         1       1   \n",
       "2            3         1       3   \n",
       "3            4         1       1   \n",
       "4            5         0       3   \n",
       "\n",
       "                                                  Name     Sex   Age  SibSp  \\\n",
       "0                              Braund, Mr. Owen Harris    male  22.0      1   \n",
       "1  Cumings, Mrs. John Bradley (Florence Briggs Thayer)  female  38.0      1   \n",
       "2                               Heikkinen, Miss. Laina  female  26.0      0   \n",
       "3         Futrelle, Mrs. Jacques Heath (Lily May Peel)  female  35.0      1   \n",
       "4                             Allen, Mr. William Henry    male  35.0      0   \n",
       "\n",
       "   Parch            Ticket     Fare Cabin  Embarked  \n",
       "0      0         A/5 21171   7.2500   NaN         1  \n",
       "1      0          PC 17599  71.2833   C85         2  \n",
       "2      0  STON/O2. 3101282   7.9250   NaN         1  \n",
       "3      0            113803  53.1000  C123         1  \n",
       "4      0            373450   8.0500   NaN         1  "
      ]
     },
     "execution_count": 717,
     "metadata": {},
     "output_type": "execute_result"
    }
   ],
   "source": [
    "embarked_mapping = {\"S\": 1, \"C\": 2, \"Q\": 3}\n",
    "df['Embarked'] = df['Embarked'].map(embarked_mapping)\n",
    "df.head()"
   ]
  },
  {
   "cell_type": "markdown",
   "id": "612d314e",
   "metadata": {},
   "source": [
    "### ***Age***"
   ]
  },
  {
   "cell_type": "code",
   "execution_count": 718,
   "id": "2157319bd6d30a",
   "metadata": {
    "ExecuteTime": {
     "end_time": "2025-02-20T22:33:40.016629Z",
     "start_time": "2025-02-20T22:33:39.905297Z"
    }
   },
   "outputs": [
    {
     "data": {
      "image/png": "[encoded data removed]",
      "text/plain": [
       "<Figure size 300x300 with 1 Axes>"
      ]
     },
     "metadata": {},
     "output_type": "display_data"
    }
   ],
   "source": [
    "sns.displot(df[df['Age'].notnull()]['Age'], height=3, aspect=1)  \n",
    "plt.show()"
   ]
  },
  {
   "cell_type": "code",
   "execution_count": 719,
   "id": "9ea8d3af45e9d5e1",
   "metadata": {
    "ExecuteTime": {
     "end_time": "2025-02-20T22:33:40.028696Z",
     "start_time": "2025-02-20T22:33:40.023754Z"
    }
   },
   "outputs": [
    {
     "data": {
      "text/plain": [
       "count    714.000000\n",
       "mean      29.699118\n",
       "std       14.526497\n",
       "min        0.420000\n",
       "25%       20.125000\n",
       "50%       28.000000\n",
       "75%       38.000000\n",
       "max       80.000000\n",
       "Name: Age, dtype: float64"
      ]
     },
     "execution_count": 719,
     "metadata": {},
     "output_type": "execute_result"
    }
   ],
   "source": [
    "df['Age'].describe()"
   ]
  },
  {
   "cell_type": "code",
   "execution_count": 720,
   "id": "13c8d1faca6d7d94",
   "metadata": {
    "ExecuteTime": {
     "end_time": "2025-02-20T22:33:40.053442Z",
     "start_time": "2025-02-20T22:33:40.046405Z"
    }
   },
   "outputs": [
    {
     "data": {
      "text/plain": [
       "count    891.000000\n",
       "mean      29.726061\n",
       "std       13.902353\n",
       "min        0.420000\n",
       "25%       21.000000\n",
       "50%       28.500000\n",
       "75%       38.000000\n",
       "max       80.000000\n",
       "Name: Age, dtype: float64"
      ]
     },
     "execution_count": 720,
     "metadata": {},
     "output_type": "execute_result"
    }
   ],
   "source": [
    "df['Age'] = df['Age'].interpolate()\n",
    "# Interpolate missing values\n",
    "df['Age'].describe()"
   ]
  },
  {
   "cell_type": "code",
   "execution_count": 721,
   "id": "25b97188bb0497ec",
   "metadata": {
    "ExecuteTime": {
     "end_time": "2025-02-20T22:33:40.165402Z",
     "start_time": "2025-02-20T22:33:40.081653Z"
    }
   },
   "outputs": [
    {
     "data": {
      "image/png": "[encoded data removed]",
      "text/plain": [
       "<Figure size 640x480 with 1 Axes>"
      ]
     },
     "metadata": {},
     "output_type": "display_data"
    }
   ],
   "source": [
    "# Added age group bins\n",
    "df['Age_Group'] = pd.cut(df['Age'], bins=[0, 5, 19, 60, 80], labels=['1','2','3','4'])\n",
    "df['Age_Group'] = df['Age_Group'].astype(int)\n",
    "\n",
    "sns.barplot(x=\"Age_Group\", y=\"Survived\", data=df)\n",
    "plt.show()\n"
   ]
  },
  {
   "cell_type": "markdown",
   "id": "dd09d2c8",
   "metadata": {},
   "source": [
    "### ***Cabin***"
   ]
  },
  {
   "cell_type": "code",
   "execution_count": 722,
   "id": "cfd9b0d7f20e5f5d",
   "metadata": {
    "ExecuteTime": {
     "end_time": "2025-02-20T22:33:40.175412Z",
     "start_time": "2025-02-20T22:33:40.170873Z"
    }
   },
   "outputs": [
    {
     "data": {
      "text/plain": [
       "0      NaN\n",
       "1      C85\n",
       "2      NaN\n",
       "3     C123\n",
       "4      NaN\n",
       "5      NaN\n",
       "6      E46\n",
       "7      NaN\n",
       "8      NaN\n",
       "9      NaN\n",
       "10      G6\n",
       "11    C103\n",
       "12     NaN\n",
       "13     NaN\n",
       "14     NaN\n",
       "Name: Cabin, dtype: object"
      ]
     },
     "execution_count": 722,
     "metadata": {},
     "output_type": "execute_result"
    }
   ],
   "source": [
    "df['Cabin'].head(15)"
   ]
  },
  {
   "cell_type": "code",
   "execution_count": 723,
   "id": "fede87781021fbd4",
   "metadata": {
    "ExecuteTime": {
     "end_time": "2025-02-20T22:33:40.276799Z",
     "start_time": "2025-02-20T22:33:40.199189Z"
    }
   },
   "outputs": [
    {
     "data": {
      "image/png": "[encoded data removed]",
      "text/plain": [
       "<Figure size 640x480 with 1 Axes>"
      ]
     },
     "metadata": {},
     "output_type": "display_data"
    }
   ],
   "source": [
    "df['Cabin_Recorded'] = df['Cabin'].notnull().astype(int)\n",
    "\n",
    "sns.barplot(x=\"Cabin_Recorded\", y=\"Survived\", data=df)\n",
    "plt.show()"
   ]
  },
  {
   "cell_type": "code",
   "execution_count": 724,
   "id": "da24f1804eb488b",
   "metadata": {
    "ExecuteTime": {
     "end_time": "2025-02-20T22:33:40.291433Z",
     "start_time": "2025-02-20T22:33:40.287497Z"
    }
   },
   "outputs": [],
   "source": [
    "df = df.drop('Cabin', axis=1)"
   ]
  },
  {
   "cell_type": "markdown",
   "id": "b0b3f9fe",
   "metadata": {},
   "source": [
    "## Feature Engineering"
   ]
  },
  {
   "cell_type": "markdown",
   "id": "cfb4ab04",
   "metadata": {},
   "source": [
    "### ***Sex***"
   ]
  },
  {
   "cell_type": "code",
   "execution_count": 725,
   "id": "2eba8db060cf9378",
   "metadata": {
    "ExecuteTime": {
     "end_time": "2025-02-20T22:33:40.366961Z",
     "start_time": "2025-02-20T22:33:40.294619Z"
    }
   },
   "outputs": [
    {
     "data": {
      "image/png": "[encoded data removed]",
      "text/plain": [
       "<Figure size 300x300 with 1 Axes>"
      ]
     },
     "metadata": {},
     "output_type": "display_data"
    }
   ],
   "source": [
    "sns.set(style=\"whitegrid\")\n",
    "g = sns.PairGrid(data=df, x_vars=['Sex'], y_vars='Survived', height=3, aspect=1)\n",
    "g.map(sns.pointplot, color=sns.xkcd_rgb[\"red\"])\n",
    "g.set(ylim=(0, 1))\n",
    "plt.show()"
   ]
  },
  {
   "cell_type": "code",
   "execution_count": 726,
   "id": "9b1342629199d05b",
   "metadata": {
    "ExecuteTime": {
     "end_time": "2025-02-20T22:33:40.383296Z",
     "start_time": "2025-02-20T22:33:40.380468Z"
    }
   },
   "outputs": [],
   "source": [
    "df['is_female'] = df['Sex'].apply(lambda x: 1 if x == 'female' else 0)\n",
    "df = df.drop('Sex', axis=1)"
   ]
  },
  {
   "cell_type": "markdown",
   "id": "41ac93c5",
   "metadata": {},
   "source": [
    "### ***Fare***"
   ]
  },
  {
   "cell_type": "code",
   "execution_count": 727,
   "id": "7695f92526a62542",
   "metadata": {
    "ExecuteTime": {
     "end_time": "2025-02-20T22:33:40.394988Z",
     "start_time": "2025-02-20T22:33:40.386920Z"
    }
   },
   "outputs": [
    {
     "name": "stdout",
     "output_type": "stream",
     "text": [
      "      Fare  Fare_Class\n",
      "0   7.2500           1\n",
      "1  71.2833           4\n",
      "2   7.9250           2\n",
      "3  53.1000           4\n",
      "4   8.0500           2\n",
      "Fare_Class Distribution:\n",
      " Fare_Class\n",
      "2    224\n",
      "1    223\n",
      "4    222\n",
      "3    222\n",
      "Name: count, dtype: int64\n",
      "\n",
      "Fare Quartiles:\n",
      " 0.00      0.0000\n",
      "0.25      7.9104\n",
      "0.50     14.4542\n",
      "0.75     31.0000\n",
      "1.00    512.3292\n",
      "Name: Fare, dtype: float64\n",
      "\n",
      "Summary Statistics:\n",
      " count    891.000000\n",
      "mean      32.204208\n",
      "std       49.693429\n",
      "min        0.000000\n",
      "25%        7.910400\n",
      "50%       14.454200\n",
      "75%       31.000000\n",
      "max      512.329200\n",
      "Name: Fare, dtype: float64\n"
     ]
    }
   ],
   "source": [
    "# Create Fare_Class by splitting Fare into 4 quartiles\n",
    "df['Fare_Class'] = pd.qcut(df['Fare'], q=4, labels=['1', '2', '3', '4'])\n",
    "df['Fare_Class'] = df['Fare_Class'].astype(int)\n",
    "\n",
    "# Display the first few rows\n",
    "print(df[['Fare', 'Fare_Class']].head())\n",
    "\n",
    "# Check the value counts for each quartile\n",
    "print(\"Fare_Class Distribution:\\n\", df['Fare_Class'].value_counts())\n",
    "\n",
    "# Get quartile ranges\n",
    "print(\"\\nFare Quartiles:\\n\", df['Fare'].quantile([0, 0.25, 0.5, 0.75, 1]))\n",
    "\n",
    "# Summary statistics to check distribution\n",
    "print(\"\\nSummary Statistics:\\n\", df['Fare'].describe())"
   ]
  },
  {
   "cell_type": "code",
   "execution_count": 728,
   "id": "387747a928ce7611",
   "metadata": {
    "ExecuteTime": {
     "end_time": "2025-02-20T22:33:40.465214Z",
     "start_time": "2025-02-20T22:33:40.407173Z"
    }
   },
   "outputs": [
    {
     "name": "stdout",
     "output_type": "stream",
     "text": [
      "Fare_Class\n",
      "1    0.197309\n",
      "2    0.303571\n",
      "3    0.454955\n",
      "4    0.581081\n",
      "Name: Survived, dtype: float64\n"
     ]
    },
    {
     "data": {
      "image/png": "[encoded data removed]",
      "text/plain": [
       "<Figure size 640x480 with 1 Axes>"
      ]
     },
     "metadata": {},
     "output_type": "display_data"
    }
   ],
   "source": [
    "import matplotlib.pyplot as plt\n",
    "\n",
    "# Calculate survival rate for each Fare_Class\n",
    "survival_rates = df.groupby('Fare_Class')['Survived'].mean() # Convert to percentage\n",
    "\n",
    "# Display survival rates\n",
    "print(survival_rates)\n",
    "\n",
    "# Plot the survival rate per Fare_Class\n",
    "survival_rates.plot(kind='bar', color=['blue', 'orange', 'green', 'red'])\n",
    "plt.xlabel(\"Fare Class\")\n",
    "plt.ylabel(\"Survival Rate (%)\")\n",
    "plt.title(\"Survival Rate by Fare Class\")\n",
    "plt.show()"
   ]
  },
  {
   "cell_type": "markdown",
   "id": "f6359494",
   "metadata": {},
   "source": [
    "### ***Title***"
   ]
  },
  {
   "cell_type": "code",
   "execution_count": 729,
   "id": "cdb587b010f50990",
   "metadata": {
    "ExecuteTime": {
     "end_time": "2025-02-20T22:33:40.482184Z",
     "start_time": "2025-02-20T22:33:40.476131Z"
    }
   },
   "outputs": [
    {
     "data": {
      "text/html": [
       "<div>\n",
       "<style scoped>\n",
       "    .dataframe tbody tr th:only-of-type {\n",
       "        vertical-align: middle;\n",
       "    }\n",
       "\n",
       "    .dataframe tbody tr th {\n",
       "        vertical-align: top;\n",
       "    }\n",
       "\n",
       "    .dataframe thead th {\n",
       "        text-align: right;\n",
       "    }\n",
       "</style>\n",
       "<table border=\"1\" class=\"dataframe\">\n",
       "  <thead>\n",
       "    <tr style=\"text-align: right;\">\n",
       "      <th></th>\n",
       "      <th>PassengerId</th>\n",
       "      <th>Survived</th>\n",
       "      <th>Pclass</th>\n",
       "      <th>Name</th>\n",
       "      <th>Age</th>\n",
       "      <th>SibSp</th>\n",
       "      <th>Parch</th>\n",
       "      <th>Ticket</th>\n",
       "      <th>Fare</th>\n",
       "      <th>Embarked</th>\n",
       "      <th>Age_Group</th>\n",
       "      <th>Cabin_Recorded</th>\n",
       "      <th>is_female</th>\n",
       "      <th>Fare_Class</th>\n",
       "    </tr>\n",
       "  </thead>\n",
       "  <tbody>\n",
       "    <tr>\n",
       "      <th>0</th>\n",
       "      <td>1</td>\n",
       "      <td>0</td>\n",
       "      <td>3</td>\n",
       "      <td>Braund, Mr. Owen Harris</td>\n",
       "      <td>22.0</td>\n",
       "      <td>1</td>\n",
       "      <td>0</td>\n",
       "      <td>A/5 21171</td>\n",
       "      <td>7.2500</td>\n",
       "      <td>1</td>\n",
       "      <td>3</td>\n",
       "      <td>0</td>\n",
       "      <td>0</td>\n",
       "      <td>1</td>\n",
       "    </tr>\n",
       "    <tr>\n",
       "      <th>1</th>\n",
       "      <td>2</td>\n",
       "      <td>1</td>\n",
       "      <td>1</td>\n",
       "      <td>Cumings, Mrs. John Bradley (Florence Briggs Thayer)</td>\n",
       "      <td>38.0</td>\n",
       "      <td>1</td>\n",
       "      <td>0</td>\n",
       "      <td>PC 17599</td>\n",
       "      <td>71.2833</td>\n",
       "      <td>2</td>\n",
       "      <td>3</td>\n",
       "      <td>1</td>\n",
       "      <td>1</td>\n",
       "      <td>4</td>\n",
       "    </tr>\n",
       "    <tr>\n",
       "      <th>2</th>\n",
       "      <td>3</td>\n",
       "      <td>1</td>\n",
       "      <td>3</td>\n",
       "      <td>Heikkinen, Miss. Laina</td>\n",
       "      <td>26.0</td>\n",
       "      <td>0</td>\n",
       "      <td>0</td>\n",
       "      <td>STON/O2. 3101282</td>\n",
       "      <td>7.9250</td>\n",
       "      <td>1</td>\n",
       "      <td>3</td>\n",
       "      <td>0</td>\n",
       "      <td>1</td>\n",
       "      <td>2</td>\n",
       "    </tr>\n",
       "    <tr>\n",
       "      <th>3</th>\n",
       "      <td>4</td>\n",
       "      <td>1</td>\n",
       "      <td>1</td>\n",
       "      <td>Futrelle, Mrs. Jacques Heath (Lily May Peel)</td>\n",
       "      <td>35.0</td>\n",
       "      <td>1</td>\n",
       "      <td>0</td>\n",
       "      <td>113803</td>\n",
       "      <td>53.1000</td>\n",
       "      <td>1</td>\n",
       "      <td>3</td>\n",
       "      <td>1</td>\n",
       "      <td>1</td>\n",
       "      <td>4</td>\n",
       "    </tr>\n",
       "    <tr>\n",
       "      <th>4</th>\n",
       "      <td>5</td>\n",
       "      <td>0</td>\n",
       "      <td>3</td>\n",
       "      <td>Allen, Mr. William Henry</td>\n",
       "      <td>35.0</td>\n",
       "      <td>0</td>\n",
       "      <td>0</td>\n",
       "      <td>373450</td>\n",
       "      <td>8.0500</td>\n",
       "      <td>1</td>\n",
       "      <td>3</td>\n",
       "      <td>0</td>\n",
       "      <td>0</td>\n",
       "      <td>2</td>\n",
       "    </tr>\n",
       "  </tbody>\n",
       "</table>\n",
       "</div>"
      ],
      "text/plain": [
       "   PassengerId  Survived  Pclass  \\\n",
       "0            1         0       3   \n",
       "1            2         1       1   \n",
       "2            3         1       3   \n",
       "3            4         1       1   \n",
       "4            5         0       3   \n",
       "\n",
       "                                                  Name   Age  SibSp  Parch  \\\n",
       "0                              Braund, Mr. Owen Harris  22.0      1      0   \n",
       "1  Cumings, Mrs. John Bradley (Florence Briggs Thayer)  38.0      1      0   \n",
       "2                               Heikkinen, Miss. Laina  26.0      0      0   \n",
       "3         Futrelle, Mrs. Jacques Heath (Lily May Peel)  35.0      1      0   \n",
       "4                             Allen, Mr. William Henry  35.0      0      0   \n",
       "\n",
       "             Ticket     Fare  Embarked  Age_Group  Cabin_Recorded  is_female  \\\n",
       "0         A/5 21171   7.2500         1          3               0          0   \n",
       "1          PC 17599  71.2833         2          3               1          1   \n",
       "2  STON/O2. 3101282   7.9250         1          3               0          1   \n",
       "3            113803  53.1000         1          3               1          1   \n",
       "4            373450   8.0500         1          3               0          0   \n",
       "\n",
       "   Fare_Class  \n",
       "0           1  \n",
       "1           4  \n",
       "2           2  \n",
       "3           4  \n",
       "4           2  "
      ]
     },
     "execution_count": 729,
     "metadata": {},
     "output_type": "execute_result"
    }
   ],
   "source": [
    "df.head()"
   ]
  },
  {
   "cell_type": "code",
   "execution_count": 730,
   "id": "e234b2ff996046d3",
   "metadata": {
    "ExecuteTime": {
     "end_time": "2025-02-20T22:33:40.502241Z",
     "start_time": "2025-02-20T22:33:40.498599Z"
    }
   },
   "outputs": [
    {
     "data": {
      "text/plain": [
       "array(['Mr', 'Mrs', 'Miss', 'Master', 'Don', 'Rev', 'Dr', 'Mme', 'Ms',\n",
       "       'Major', 'Lady', 'Sir', 'Mlle', 'Col', 'Capt', 'Countess',\n",
       "       'Jonkheer'], dtype=object)"
      ]
     },
     "execution_count": 730,
     "metadata": {},
     "output_type": "execute_result"
    }
   ],
   "source": [
    "# Extract titles after comma\n",
    "df['Title'] = df.Name.str.extract(' ([A-Za-z]+)\\.', expand=False)\n",
    "df['Title'].unique()"
   ]
  },
  {
   "cell_type": "code",
   "execution_count": 731,
   "id": "95573e3544f85ca2",
   "metadata": {
    "ExecuteTime": {
     "end_time": "2025-02-20T22:33:40.531117Z",
     "start_time": "2025-02-20T22:33:40.527785Z"
    }
   },
   "outputs": [
    {
     "data": {
      "text/plain": [
       "Title\n",
       "Mr          517\n",
       "Miss        182\n",
       "Mrs         125\n",
       "Master       40\n",
       "Dr            7\n",
       "Rev           6\n",
       "Mlle          2\n",
       "Major         2\n",
       "Col           2\n",
       "Countess      1\n",
       "Capt          1\n",
       "Ms            1\n",
       "Sir           1\n",
       "Lady          1\n",
       "Mme           1\n",
       "Don           1\n",
       "Jonkheer      1\n",
       "Name: count, dtype: int64"
      ]
     },
     "execution_count": 731,
     "metadata": {},
     "output_type": "execute_result"
    }
   ],
   "source": [
    "df['Title'].value_counts()"
   ]
  },
  {
   "cell_type": "code",
   "execution_count": 732,
   "id": "7432388444fb4f76",
   "metadata": {
    "ExecuteTime": {
     "end_time": "2025-02-20T22:33:40.554243Z",
     "start_time": "2025-02-20T22:33:40.550651Z"
    }
   },
   "outputs": [
    {
     "data": {
      "text/plain": [
       "0"
      ]
     },
     "execution_count": 732,
     "metadata": {},
     "output_type": "execute_result"
    }
   ],
   "source": [
    "df['Title'].isnull().sum()"
   ]
  },
  {
   "cell_type": "code",
   "execution_count": 733,
   "id": "f9f29941baf6f45c",
   "metadata": {
    "ExecuteTime": {
     "end_time": "2025-02-20T22:33:40.583217Z",
     "start_time": "2025-02-20T22:33:40.578493Z"
    }
   },
   "outputs": [
    {
     "data": {
      "text/plain": [
       "Title\n",
       "Mr          517\n",
       "Miss        183\n",
       "Mrs         125\n",
       "Master       40\n",
       "Doctor        7\n",
       "Clergy        6\n",
       "Military      5\n",
       "Foreign       4\n",
       "Royalty       4\n",
       "Name: count, dtype: int64"
      ]
     },
     "execution_count": 733,
     "metadata": {},
     "output_type": "execute_result"
    }
   ],
   "source": [
    "# Define title mapping\n",
    "title_mapping = {\n",
    "    \"Mr\": \"Mr\",\n",
    "    \"Mrs\": \"Mrs\",\n",
    "    \"Miss\": \"Miss\",\n",
    "    \"Ms\": \"Miss\",\n",
    "    \"Master\": \"Master\",\n",
    "    \"Countess\": \"Royalty\",\n",
    "    \"Lady\": \"Royalty\",\n",
    "    \"Sir\": \"Royalty\",\n",
    "    \"Jonkheer\": \"Royalty\",\n",
    "    \"Capt\": \"Military\",\n",
    "    \"Col\": \"Military\",\n",
    "    \"Major\": \"Military\",\n",
    "    \"Rev\": \"Clergy\",\n",
    "    \"Dr\": \"Doctor\",\n",
    "    \"Don\": \"Foreign\",\n",
    "    \"Dona\": \"Foreign\",\n",
    "    \"Mme\": \"Foreign\",\n",
    "    \"Mlle\": \"Foreign\"\n",
    "}\n",
    "\n",
    "df['Title'] = df['Title'].map(title_mapping).fillna(\"Foreign\")\n",
    "\n",
    "# Check new grouped titles\n",
    "df['Title'].value_counts()\n"
   ]
  },
  {
   "cell_type": "code",
   "execution_count": 734,
   "id": "bc481f3b4456affe",
   "metadata": {
    "ExecuteTime": {
     "end_time": "2025-02-20T22:33:40.746226Z",
     "start_time": "2025-02-20T22:33:40.604055Z"
    }
   },
   "outputs": [
    {
     "data": {
      "image/png": "[encoded data removed]",
      "text/plain": [
       "<Figure size 640x480 with 1 Axes>"
      ]
     },
     "metadata": {},
     "output_type": "display_data"
    }
   ],
   "source": [
    "sns.barplot(x=\"Title\", y=\"Survived\", data=df)\n",
    "plt.show()"
   ]
  },
  {
   "cell_type": "code",
   "execution_count": 735,
   "id": "62b31537d7fad8c1",
   "metadata": {
    "ExecuteTime": {
     "end_time": "2025-02-20T22:33:40.765835Z",
     "start_time": "2025-02-20T22:33:40.759364Z"
    }
   },
   "outputs": [],
   "source": [
    "# One-hot encode the 'Title' column\n",
    "df = pd.get_dummies(df, columns=['Title'], prefix='Title')"
   ]
  },
  {
   "cell_type": "code",
   "execution_count": 736,
   "id": "afa0b485efa6bc46",
   "metadata": {
    "ExecuteTime": {
     "end_time": "2025-02-20T22:33:40.774044Z",
     "start_time": "2025-02-20T22:33:40.770871Z"
    }
   },
   "outputs": [
    {
     "data": {
      "text/plain": [
       "Index(['PassengerId', 'Survived', 'Pclass', 'Name', 'Age', 'SibSp', 'Parch',\n",
       "       'Ticket', 'Fare', 'Embarked', 'Age_Group', 'Cabin_Recorded',\n",
       "       'is_female', 'Fare_Class', 'Title_Clergy', 'Title_Doctor',\n",
       "       'Title_Foreign', 'Title_Master', 'Title_Military', 'Title_Miss',\n",
       "       'Title_Mr', 'Title_Mrs', 'Title_Royalty'],\n",
       "      dtype='object')"
      ]
     },
     "execution_count": 736,
     "metadata": {},
     "output_type": "execute_result"
    }
   ],
   "source": [
    "df.columns"
   ]
  },
  {
   "cell_type": "code",
   "execution_count": 737,
   "id": "bebf83a4fd5a766b",
   "metadata": {
    "ExecuteTime": {
     "end_time": "2025-02-20T22:33:40.797809Z",
     "start_time": "2025-02-20T22:33:40.791147Z"
    }
   },
   "outputs": [
    {
     "data": {
      "text/html": [
       "<div>\n",
       "<style scoped>\n",
       "    .dataframe tbody tr th:only-of-type {\n",
       "        vertical-align: middle;\n",
       "    }\n",
       "\n",
       "    .dataframe tbody tr th {\n",
       "        vertical-align: top;\n",
       "    }\n",
       "\n",
       "    .dataframe thead th {\n",
       "        text-align: right;\n",
       "    }\n",
       "</style>\n",
       "<table border=\"1\" class=\"dataframe\">\n",
       "  <thead>\n",
       "    <tr style=\"text-align: right;\">\n",
       "      <th></th>\n",
       "      <th>PassengerId</th>\n",
       "      <th>Survived</th>\n",
       "      <th>Pclass</th>\n",
       "      <th>SibSp</th>\n",
       "      <th>Parch</th>\n",
       "      <th>Embarked</th>\n",
       "      <th>Age_Group</th>\n",
       "      <th>Cabin_Recorded</th>\n",
       "      <th>is_female</th>\n",
       "      <th>Fare_Class</th>\n",
       "      <th>Title_Clergy</th>\n",
       "      <th>Title_Doctor</th>\n",
       "      <th>Title_Foreign</th>\n",
       "      <th>Title_Master</th>\n",
       "      <th>Title_Military</th>\n",
       "      <th>Title_Miss</th>\n",
       "      <th>Title_Mr</th>\n",
       "      <th>Title_Mrs</th>\n",
       "      <th>Title_Royalty</th>\n",
       "    </tr>\n",
       "  </thead>\n",
       "  <tbody>\n",
       "    <tr>\n",
       "      <th>0</th>\n",
       "      <td>1</td>\n",
       "      <td>0</td>\n",
       "      <td>3</td>\n",
       "      <td>1</td>\n",
       "      <td>0</td>\n",
       "      <td>1</td>\n",
       "      <td>3</td>\n",
       "      <td>0</td>\n",
       "      <td>0</td>\n",
       "      <td>1</td>\n",
       "      <td>False</td>\n",
       "      <td>False</td>\n",
       "      <td>False</td>\n",
       "      <td>False</td>\n",
       "      <td>False</td>\n",
       "      <td>False</td>\n",
       "      <td>True</td>\n",
       "      <td>False</td>\n",
       "      <td>False</td>\n",
       "    </tr>\n",
       "    <tr>\n",
       "      <th>1</th>\n",
       "      <td>2</td>\n",
       "      <td>1</td>\n",
       "      <td>1</td>\n",
       "      <td>1</td>\n",
       "      <td>0</td>\n",
       "      <td>2</td>\n",
       "      <td>3</td>\n",
       "      <td>1</td>\n",
       "      <td>1</td>\n",
       "      <td>4</td>\n",
       "      <td>False</td>\n",
       "      <td>False</td>\n",
       "      <td>False</td>\n",
       "      <td>False</td>\n",
       "      <td>False</td>\n",
       "      <td>False</td>\n",
       "      <td>False</td>\n",
       "      <td>True</td>\n",
       "      <td>False</td>\n",
       "    </tr>\n",
       "    <tr>\n",
       "      <th>2</th>\n",
       "      <td>3</td>\n",
       "      <td>1</td>\n",
       "      <td>3</td>\n",
       "      <td>0</td>\n",
       "      <td>0</td>\n",
       "      <td>1</td>\n",
       "      <td>3</td>\n",
       "      <td>0</td>\n",
       "      <td>1</td>\n",
       "      <td>2</td>\n",
       "      <td>False</td>\n",
       "      <td>False</td>\n",
       "      <td>False</td>\n",
       "      <td>False</td>\n",
       "      <td>False</td>\n",
       "      <td>True</td>\n",
       "      <td>False</td>\n",
       "      <td>False</td>\n",
       "      <td>False</td>\n",
       "    </tr>\n",
       "    <tr>\n",
       "      <th>3</th>\n",
       "      <td>4</td>\n",
       "      <td>1</td>\n",
       "      <td>1</td>\n",
       "      <td>1</td>\n",
       "      <td>0</td>\n",
       "      <td>1</td>\n",
       "      <td>3</td>\n",
       "      <td>1</td>\n",
       "      <td>1</td>\n",
       "      <td>4</td>\n",
       "      <td>False</td>\n",
       "      <td>False</td>\n",
       "      <td>False</td>\n",
       "      <td>False</td>\n",
       "      <td>False</td>\n",
       "      <td>False</td>\n",
       "      <td>False</td>\n",
       "      <td>True</td>\n",
       "      <td>False</td>\n",
       "    </tr>\n",
       "    <tr>\n",
       "      <th>4</th>\n",
       "      <td>5</td>\n",
       "      <td>0</td>\n",
       "      <td>3</td>\n",
       "      <td>0</td>\n",
       "      <td>0</td>\n",
       "      <td>1</td>\n",
       "      <td>3</td>\n",
       "      <td>0</td>\n",
       "      <td>0</td>\n",
       "      <td>2</td>\n",
       "      <td>False</td>\n",
       "      <td>False</td>\n",
       "      <td>False</td>\n",
       "      <td>False</td>\n",
       "      <td>False</td>\n",
       "      <td>False</td>\n",
       "      <td>True</td>\n",
       "      <td>False</td>\n",
       "      <td>False</td>\n",
       "    </tr>\n",
       "  </tbody>\n",
       "</table>\n",
       "</div>"
      ],
      "text/plain": [
       "   PassengerId  Survived  Pclass  SibSp  Parch  Embarked  Age_Group  \\\n",
       "0            1         0       3      1      0         1          3   \n",
       "1            2         1       1      1      0         2          3   \n",
       "2            3         1       3      0      0         1          3   \n",
       "3            4         1       1      1      0         1          3   \n",
       "4            5         0       3      0      0         1          3   \n",
       "\n",
       "   Cabin_Recorded  is_female  Fare_Class  Title_Clergy  Title_Doctor  \\\n",
       "0               0          0           1         False         False   \n",
       "1               1          1           4         False         False   \n",
       "2               0          1           2         False         False   \n",
       "3               1          1           4         False         False   \n",
       "4               0          0           2         False         False   \n",
       "\n",
       "   Title_Foreign  Title_Master  Title_Military  Title_Miss  Title_Mr  \\\n",
       "0          False         False           False       False      True   \n",
       "1          False         False           False       False     False   \n",
       "2          False         False           False        True     False   \n",
       "3          False         False           False       False     False   \n",
       "4          False         False           False       False      True   \n",
       "\n",
       "   Title_Mrs  Title_Royalty  \n",
       "0      False          False  \n",
       "1       True          False  \n",
       "2      False          False  \n",
       "3       True          False  \n",
       "4      False          False  "
      ]
     },
     "execution_count": 737,
     "metadata": {},
     "output_type": "execute_result"
    }
   ],
   "source": [
    "df = df.drop(['Name', 'Ticket', 'Age', 'Fare'], axis=1)\n",
    "df.head()"
   ]
  },
  {
   "cell_type": "markdown",
   "id": "5cafb581",
   "metadata": {},
   "source": [
    "### ***Class and Gender Interaction Variable***"
   ]
  },
  {
   "cell_type": "code",
   "execution_count": 738,
   "id": "1644adaa77074c30",
   "metadata": {
    "ExecuteTime": {
     "end_time": "2025-02-20T22:33:40.817192Z",
     "start_time": "2025-02-20T22:33:40.813577Z"
    }
   },
   "outputs": [],
   "source": [
    "df['Male_3rd_Class'] = ((df['is_female'] == 0) & (df['Pclass'] == 3)).astype(int)"
   ]
  },
  {
   "cell_type": "code",
   "execution_count": 739,
   "id": "3b58c99725139e02",
   "metadata": {
    "ExecuteTime": {
     "end_time": "2025-02-20T22:33:40.845530Z",
     "start_time": "2025-02-20T22:33:40.839836Z"
    }
   },
   "outputs": [
    {
     "name": "stdout",
     "output_type": "stream",
     "text": [
      "<class 'pandas.core.frame.DataFrame'>\n",
      "RangeIndex: 891 entries, 0 to 890\n",
      "Data columns (total 20 columns):\n",
      " #   Column          Non-Null Count  Dtype\n",
      "---  ------          --------------  -----\n",
      " 0   PassengerId     891 non-null    int64\n",
      " 1   Survived        891 non-null    int64\n",
      " 2   Pclass          891 non-null    int64\n",
      " 3   SibSp           891 non-null    int64\n",
      " 4   Parch           891 non-null    int64\n",
      " 5   Embarked        891 non-null    int64\n",
      " 6   Age_Group       891 non-null    int64\n",
      " 7   Cabin_Recorded  891 non-null    int64\n",
      " 8   is_female       891 non-null    int64\n",
      " 9   Fare_Class      891 non-null    int64\n",
      " 10  Title_Clergy    891 non-null    bool \n",
      " 11  Title_Doctor    891 non-null    bool \n",
      " 12  Title_Foreign   891 non-null    bool \n",
      " 13  Title_Master    891 non-null    bool \n",
      " 14  Title_Military  891 non-null    bool \n",
      " 15  Title_Miss      891 non-null    bool \n",
      " 16  Title_Mr        891 non-null    bool \n",
      " 17  Title_Mrs       891 non-null    bool \n",
      " 18  Title_Royalty   891 non-null    bool \n",
      " 19  Male_3rd_Class  891 non-null    int64\n",
      "dtypes: bool(9), int64(11)\n",
      "memory usage: 84.5 KB\n"
     ]
    }
   ],
   "source": [
    "df.info()"
   ]
  },
  {
   "cell_type": "code",
   "execution_count": 740,
   "id": "ddf4e7e4eecb2662",
   "metadata": {
    "ExecuteTime": {
     "end_time": "2025-02-20T22:33:40.866926Z",
     "start_time": "2025-02-20T22:33:40.863680Z"
    }
   },
   "outputs": [],
   "source": [
    "X, y = df.drop(['Survived'], axis=1), df['Survived']"
   ]
  },
  {
   "cell_type": "markdown",
   "id": "902d067c080f5aee",
   "metadata": {},
   "source": [
    "# Model Testing & Evaluation"
   ]
  },
  {
   "cell_type": "code",
   "execution_count": 741,
   "id": "38d0502e3674ffdc",
   "metadata": {
    "ExecuteTime": {
     "end_time": "2025-02-20T22:33:40.883153Z",
     "start_time": "2025-02-20T22:33:40.880636Z"
    }
   },
   "outputs": [],
   "source": [
    "# Importing Classifier Modules\n",
    "from sklearn.linear_model import LogisticRegression\n",
    "from sklearn.svm import SVC, LinearSVC\n",
    "from sklearn.neighbors import KNeighborsClassifier\n",
    "from sklearn.tree import DecisionTreeClassifier\n",
    "from sklearn.ensemble import RandomForestClassifier\n",
    "from sklearn.naive_bayes import GaussianNB\n",
    "from sklearn.linear_model import Perceptron\n",
    "from sklearn.linear_model import SGDClassifier\n",
    "from sklearn.preprocessing import StandardScaler\n",
    "from sklearn.metrics import accuracy_score, precision_score, f1_score\n",
    "# Gradient Boosting Classifier\n",
    "from sklearn.ensemble import GradientBoostingClassifier\n",
    "import joblib"
   ]
  },
  {
   "cell_type": "code",
   "execution_count": 742,
   "id": "dd091e9e8af641d6",
   "metadata": {
    "ExecuteTime": {
     "end_time": "2025-02-20T22:33:40.891895Z",
     "start_time": "2025-02-20T22:33:40.885826Z"
    }
   },
   "outputs": [],
   "source": [
    "train_X, test_X, train_y, test_y = train_test_split(X, y, train_size=0.75, test_size=0.25, stratify=y, random_state=42)\n",
    "\n",
    "# Standardize features (important for SVM, Logistic Regression, SGD, etc.)\n",
    "scaler = StandardScaler()\n",
    "train_X_scaled = scaler.fit_transform(train_X)\n",
    "test_X_scaled = scaler.transform(test_X)"
   ]
  },
  {
   "cell_type": "code",
   "execution_count": 743,
   "id": "5b2321bc724fca51",
   "metadata": {
    "ExecuteTime": {
     "end_time": "2025-02-20T22:33:40.897324Z",
     "start_time": "2025-02-20T22:33:40.895Z"
    }
   },
   "outputs": [
    {
     "name": "stdout",
     "output_type": "stream",
     "text": [
      "Survived\n",
      "0    549\n",
      "1    342\n",
      "Name: count, dtype: int64\n"
     ]
    }
   ],
   "source": [
    "print(y.value_counts())"
   ]
  },
  {
   "cell_type": "code",
   "execution_count": 744,
   "id": "ad29b8824ab8b964",
   "metadata": {
    "ExecuteTime": {
     "end_time": "2025-02-20T22:33:41.211317Z",
     "start_time": "2025-02-20T22:33:40.906406Z"
    }
   },
   "outputs": [],
   "source": [
    "# Initialize models\n",
    "models_dict = {\n",
    "    'Logistic Regression': LogisticRegression(max_iter=1000, C=1),\n",
    "    'Support Vector Machines': SVC(),\n",
    "    'Linear SVC': LinearSVC(max_iter=10000),\n",
    "    'KNN': KNeighborsClassifier(n_neighbors=5),\n",
    "    'Decision Tree': DecisionTreeClassifier(),\n",
    "    'Random Forest': RandomForestClassifier(n_estimators=100),\n",
    "    'Stochastic Gradient Descent': SGDClassifier(),\n",
    "    'Gradient Boosting Classifier': GradientBoostingClassifier()\n",
    "}\n",
    "\n",
    "# Train models and store accuracy scores\n",
    "model_scores = []\n",
    "trained_models = {}  # Dictionary to store trained models\n",
    "\n",
    "for name, model in models_dict.items():\n",
    "    model.fit(train_X_scaled, train_y)  # Train the model\n",
    "    predictions = model.predict(test_X_scaled)  # Make predictions\n",
    "    accuracy = accuracy_score(test_y, predictions)# Evaluate model\n",
    "    precision = precision_score(test_y, predictions, average='binary')  # For binary classification\n",
    "    f1 = f1_score(test_y, predictions, average='binary')\n",
    "    # Store results\n",
    "    model_scores.append({\n",
    "        'Model': name,\n",
    "        'Accuracy': round(accuracy * 100, 2),\n",
    "        'Precision': round(precision * 100, 2),\n",
    "        'F1-Score': round(f1 * 100, 2)\n",
    "    })\n",
    "    # Store trained model in dictionary\n",
    "    trained_models[name] = model\n",
    "    # Save each trained model\n",
    "    # joblib.dump(model, f\"{name.replace(' ', '_')}.pkl\")"
   ]
  },
  {
   "cell_type": "code",
   "execution_count": 745,
   "id": "1324a75f55488f",
   "metadata": {
    "ExecuteTime": {
     "end_time": "2025-02-20T22:33:41.222198Z",
     "start_time": "2025-02-20T22:33:41.218825Z"
    }
   },
   "outputs": [
    {
     "name": "stdout",
     "output_type": "stream",
     "text": [
      "                          Model  Accuracy  Precision  F1-Score\n",
      "0                    Linear SVC     82.51      79.01     76.65\n",
      "1           Logistic Regression     82.06      79.49     75.61\n",
      "2       Support Vector Machines     81.61      77.11     75.74\n",
      "3                           KNN     81.17      78.21     74.39\n",
      "4                 Random Forest     80.72      76.54     74.25\n",
      "5   Stochastic Gradient Descent     79.37      73.81     72.94\n",
      "6  Gradient Boosting Classifier     78.48      75.68     70.00\n",
      "7                 Decision Tree     69.51      59.57     62.22\n"
     ]
    }
   ],
   "source": [
    "# Convert results to DataFrame and sort by Accuracy\n",
    "models_df = pd.DataFrame(model_scores).sort_values(by='Accuracy', ascending=False).reset_index(drop=True)\n",
    "print(models_df)"
   ]
  },
  {
   "cell_type": "code",
   "execution_count": 746,
   "id": "21d967b8f9d663af",
   "metadata": {
    "ExecuteTime": {
     "end_time": "2025-02-20T22:33:41.277003Z",
     "start_time": "2025-02-20T22:33:41.244671Z"
    }
   },
   "outputs": [
    {
     "name": "stdout",
     "output_type": "stream",
     "text": [
      "Ensemble Accuracy: 0.820627802690583\n",
      "Precision: 0.7948717948717948\n",
      "F1-score: 0.7560975609756098\n"
     ]
    }
   ],
   "source": [
    "from sklearn.ensemble import VotingClassifier\n",
    "\n",
    "ensemble = VotingClassifier(estimators=[\n",
    "    ('svc', trained_models['Linear SVC']),\n",
    "    ('logreg', trained_models['Logistic Regression']),\n",
    "], voting='hard')\n",
    "\n",
    "ensemble.fit(train_X_scaled, train_y)\n",
    "\n",
    "print(\"Ensemble Accuracy:\", accuracy_score(test_y, ensemble.predict(test_X_scaled)))\n",
    "print('Precision:', precision_score(test_y, ensemble.predict(test_X_scaled)))\n",
    "print('F1-score:', f1_score(test_y, ensemble.predict(test_X_scaled)))"
   ]
  },
  {
   "cell_type": "code",
   "execution_count": 747,
   "id": "e46f9c7a47f4efa8",
   "metadata": {
    "ExecuteTime": {
     "end_time": "2025-02-20T22:33:41.363008Z",
     "start_time": "2025-02-20T22:33:41.292288Z"
    }
   },
   "outputs": [
    {
     "name": "stdout",
     "output_type": "stream",
     "text": [
      "Best C: {'C': 1}\n",
      "Best Accuracy: 0.8308495118392998\n"
     ]
    }
   ],
   "source": [
    "from sklearn.model_selection import GridSearchCV\n",
    "param_grid = {'C': [0.01, 0.1, 1, 10, 100]}\n",
    "grid = GridSearchCV(LinearSVC(max_iter=10000), param_grid, cv=5, scoring='accuracy')\n",
    "grid.fit(train_X_scaled, train_y)\n",
    "print(\"Best C:\", grid.best_params_)\n",
    "print(\"Best Accuracy:\", grid.best_score_)\n"
   ]
  },
  {
   "cell_type": "code",
   "execution_count": 748,
   "id": "f97646dc92f8cca3",
   "metadata": {
    "ExecuteTime": {
     "end_time": "2025-02-20T22:33:41.376872Z",
     "start_time": "2025-02-20T22:33:41.369442Z"
    }
   },
   "outputs": [
    {
     "name": "stdout",
     "output_type": "stream",
     "text": [
      "Final Model with C=1\n",
      "Test Accuracy: 0.8251\n",
      "Test Precision: 0.7901\n",
      "Test F1-Score: 0.7665\n"
     ]
    }
   ],
   "source": [
    "from sklearn.svm import LinearSVC\n",
    "from sklearn.metrics import accuracy_score, precision_score, f1_score\n",
    "\n",
    "# Retrain the best model\n",
    "best_svc = LinearSVC(C=1, max_iter=10000)\n",
    "best_svc.fit(train_X_scaled, train_y)\n",
    "\n",
    "# Make predictions\n",
    "y_pred_best = best_svc.predict(test_X_scaled)\n",
    "\n",
    "# Evaluate performance\n",
    "accuracy = accuracy_score(test_y, y_pred_best)\n",
    "precision = precision_score(test_y, y_pred_best)\n",
    "f1 = f1_score(test_y, y_pred_best)\n",
    "\n",
    "print(f\"Final Model with C=1\")\n",
    "print(f\"Test Accuracy: {accuracy:.4f}\")\n",
    "print(f\"Test Precision: {precision:.4f}\")\n",
    "print(f\"Test F1-Score: {f1:.4f}\")\n"
   ]
  },
  {
   "cell_type": "code",
   "execution_count": 749,
   "id": "9db89b6f13226433",
   "metadata": {
    "ExecuteTime": {
     "end_time": "2025-02-20T22:33:41.401060Z",
     "start_time": "2025-02-20T22:33:41.391162Z"
    }
   },
   "outputs": [
    {
     "name": "stdout",
     "output_type": "stream",
     "text": [
      "Logistic Regression with C=1\n",
      "Test Accuracy: 0.8206\n",
      "Test Precision: 0.7949\n",
      "Test F1-Score: 0.7561\n"
     ]
    }
   ],
   "source": [
    "from sklearn.linear_model import LogisticRegression\n",
    "\n",
    "best_log_reg = LogisticRegression(C=1, penalty='l2', solver='liblinear', max_iter=1000)\n",
    "best_log_reg.fit(train_X_scaled, train_y)\n",
    "y_pred_log_reg = best_log_reg.predict(test_X_scaled)\n",
    "\n",
    "log_accuracy = accuracy_score(test_y, y_pred_log_reg)\n",
    "log_precision = precision_score(test_y, y_pred_log_reg)\n",
    "log_f1 = f1_score(test_y, y_pred_log_reg)\n",
    "\n",
    "print(f\"Logistic Regression with C=1\")\n",
    "print(f\"Test Accuracy: {log_accuracy:.4f}\")\n",
    "print(f\"Test Precision: {log_precision:.4f}\")\n",
    "print(f\"Test F1-Score: {log_f1:.4f}\")\n"
   ]
  },
  {
   "cell_type": "code",
   "execution_count": 765,
   "id": "f4c8ef0f4a66949b",
   "metadata": {
    "ExecuteTime": {
     "end_time": "2025-02-20T22:33:50.423433Z",
     "start_time": "2025-02-20T22:33:50.350919Z"
    }
   },
   "outputs": [
    {
     "name": "stdout",
     "output_type": "stream",
     "text": [
      "Train Accuracy: 0.8368\n",
      "Test Accuracy: 0.8251\n",
      "Train Precision: 0.8182, Test Precision: 0.7901\n",
      "Train F1-Score: 0.7762, Test F1-Score: 0.7665\n",
      "Cross-validation accuracy: 0.8308 ± 0.0173\n"
     ]
    }
   ],
   "source": [
    "# Load best model\n",
    "best_model = best_svc\n",
    "\n",
    "# Get predictions on training and test data\n",
    "train_preds = best_model.predict(train_X_scaled)\n",
    "test_preds = best_model.predict(test_X_scaled)\n",
    "\n",
    "# Compute performance metrics\n",
    "train_accuracy = accuracy_score(train_y, train_preds)\n",
    "test_accuracy = accuracy_score(test_y, test_preds)\n",
    "\n",
    "print(f\"Train Accuracy: {train_accuracy:.4f}\")\n",
    "print(f\"Test Accuracy: {test_accuracy:.4f}\")\n",
    "\n",
    "train_precision = precision_score(train_y, train_preds, average='binary')\n",
    "test_precision = precision_score(test_y, test_preds, average='binary')\n",
    "\n",
    "train_f1 = f1_score(train_y, train_preds, average='binary')\n",
    "test_f1 = f1_score(test_y, test_preds, average='binary')\n",
    "\n",
    "print(f\"Train Precision: {train_precision:.4f}, Test Precision: {test_precision:.4f}\")\n",
    "print(f\"Train F1-Score: {train_f1:.4f}, Test F1-Score: {test_f1:.4f}\")\n",
    "\n",
    "from sklearn.model_selection import cross_val_score\n",
    "\n",
    "cv_scores = cross_val_score(best_model, train_X_scaled, train_y, cv=5, scoring='accuracy')\n",
    "print(f\"Cross-validation accuracy: {cv_scores.mean():.4f} ± {cv_scores.std():.4f}\")"
   ]
  },
  {
   "cell_type": "markdown",
   "id": "59b8b439c5b3ba9a",
   "metadata": {},
   "source": [
    "# Model application to test data"
   ]
  },
  {
   "cell_type": "code",
   "execution_count": 751,
   "id": "ecbdbbc777401baa",
   "metadata": {
    "ExecuteTime": {
     "end_time": "2025-02-20T22:33:41.450686Z",
     "start_time": "2025-02-20T22:33:41.443394Z"
    }
   },
   "outputs": [
    {
     "data": {
      "text/html": [
       "<div>\n",
       "<style scoped>\n",
       "    .dataframe tbody tr th:only-of-type {\n",
       "        vertical-align: middle;\n",
       "    }\n",
       "\n",
       "    .dataframe tbody tr th {\n",
       "        vertical-align: top;\n",
       "    }\n",
       "\n",
       "    .dataframe thead th {\n",
       "        text-align: right;\n",
       "    }\n",
       "</style>\n",
       "<table border=\"1\" class=\"dataframe\">\n",
       "  <thead>\n",
       "    <tr style=\"text-align: right;\">\n",
       "      <th></th>\n",
       "      <th>Survived</th>\n",
       "      <th>PassengerId</th>\n",
       "      <th>Pclass</th>\n",
       "      <th>Name</th>\n",
       "      <th>Sex</th>\n",
       "      <th>Age</th>\n",
       "      <th>SibSp</th>\n",
       "      <th>Parch</th>\n",
       "      <th>Ticket</th>\n",
       "      <th>Fare</th>\n",
       "      <th>Cabin</th>\n",
       "      <th>Embarked</th>\n",
       "    </tr>\n",
       "  </thead>\n",
       "  <tbody>\n",
       "    <tr>\n",
       "      <th>0</th>\n",
       "      <td>NaN</td>\n",
       "      <td>892</td>\n",
       "      <td>3</td>\n",
       "      <td>Kelly, Mr. James</td>\n",
       "      <td>male</td>\n",
       "      <td>34.5</td>\n",
       "      <td>0</td>\n",
       "      <td>0</td>\n",
       "      <td>330911</td>\n",
       "      <td>7.8292</td>\n",
       "      <td>NaN</td>\n",
       "      <td>Q</td>\n",
       "    </tr>\n",
       "    <tr>\n",
       "      <th>1</th>\n",
       "      <td>NaN</td>\n",
       "      <td>893</td>\n",
       "      <td>3</td>\n",
       "      <td>Wilkes, Mrs. James (Ellen Needs)</td>\n",
       "      <td>female</td>\n",
       "      <td>47.0</td>\n",
       "      <td>1</td>\n",
       "      <td>0</td>\n",
       "      <td>363272</td>\n",
       "      <td>7.0000</td>\n",
       "      <td>NaN</td>\n",
       "      <td>S</td>\n",
       "    </tr>\n",
       "    <tr>\n",
       "      <th>2</th>\n",
       "      <td>NaN</td>\n",
       "      <td>894</td>\n",
       "      <td>2</td>\n",
       "      <td>Myles, Mr. Thomas Francis</td>\n",
       "      <td>male</td>\n",
       "      <td>62.0</td>\n",
       "      <td>0</td>\n",
       "      <td>0</td>\n",
       "      <td>240276</td>\n",
       "      <td>9.6875</td>\n",
       "      <td>NaN</td>\n",
       "      <td>Q</td>\n",
       "    </tr>\n",
       "    <tr>\n",
       "      <th>3</th>\n",
       "      <td>NaN</td>\n",
       "      <td>895</td>\n",
       "      <td>3</td>\n",
       "      <td>Wirz, Mr. Albert</td>\n",
       "      <td>male</td>\n",
       "      <td>27.0</td>\n",
       "      <td>0</td>\n",
       "      <td>0</td>\n",
       "      <td>315154</td>\n",
       "      <td>8.6625</td>\n",
       "      <td>NaN</td>\n",
       "      <td>S</td>\n",
       "    </tr>\n",
       "    <tr>\n",
       "      <th>4</th>\n",
       "      <td>NaN</td>\n",
       "      <td>896</td>\n",
       "      <td>3</td>\n",
       "      <td>Hirvonen, Mrs. Alexander (Helga E Lindqvist)</td>\n",
       "      <td>female</td>\n",
       "      <td>22.0</td>\n",
       "      <td>1</td>\n",
       "      <td>1</td>\n",
       "      <td>3101298</td>\n",
       "      <td>12.2875</td>\n",
       "      <td>NaN</td>\n",
       "      <td>S</td>\n",
       "    </tr>\n",
       "  </tbody>\n",
       "</table>\n",
       "</div>"
      ],
      "text/plain": [
       "   Survived  PassengerId  Pclass  \\\n",
       "0       NaN          892       3   \n",
       "1       NaN          893       3   \n",
       "2       NaN          894       2   \n",
       "3       NaN          895       3   \n",
       "4       NaN          896       3   \n",
       "\n",
       "                                           Name     Sex   Age  SibSp  Parch  \\\n",
       "0                              Kelly, Mr. James    male  34.5      0      0   \n",
       "1              Wilkes, Mrs. James (Ellen Needs)  female  47.0      1      0   \n",
       "2                     Myles, Mr. Thomas Francis    male  62.0      0      0   \n",
       "3                              Wirz, Mr. Albert    male  27.0      0      0   \n",
       "4  Hirvonen, Mrs. Alexander (Helga E Lindqvist)  female  22.0      1      1   \n",
       "\n",
       "    Ticket     Fare Cabin Embarked  \n",
       "0   330911   7.8292   NaN        Q  \n",
       "1   363272   7.0000   NaN        S  \n",
       "2   240276   9.6875   NaN        Q  \n",
       "3   315154   8.6625   NaN        S  \n",
       "4  3101298  12.2875   NaN        S  "
      ]
     },
     "execution_count": 751,
     "metadata": {},
     "output_type": "execute_result"
    }
   ],
   "source": [
    "# Read in test data\n",
    "dftest= pd.read_csv('Assignment_3/Titanic_Survival/holdout_test.csv')\n",
    "dftest.head()"
   ]
  },
  {
   "cell_type": "markdown",
   "id": "a307892f",
   "metadata": {},
   "source": [
    "### ***Preprocessing***"
   ]
  },
  {
   "cell_type": "code",
   "execution_count": 752,
   "id": "fc38a8ca0f30b6ce",
   "metadata": {
    "ExecuteTime": {
     "end_time": "2025-02-20T22:33:41.466252Z",
     "start_time": "2025-02-20T22:33:41.464125Z"
    }
   },
   "outputs": [
    {
     "name": "stdout",
     "output_type": "stream",
     "text": [
      "Survived       418\n",
      "PassengerId      0\n",
      "Pclass           0\n",
      "Name             0\n",
      "Sex              0\n",
      "Age             86\n",
      "SibSp            0\n",
      "Parch            0\n",
      "Ticket           0\n",
      "Fare             1\n",
      "Cabin          327\n",
      "Embarked         0\n",
      "dtype: int64\n"
     ]
    }
   ],
   "source": [
    "print(dftest.isnull().sum())"
   ]
  },
  {
   "cell_type": "code",
   "execution_count": 753,
   "id": "f1cb5f19b5667a80",
   "metadata": {
    "ExecuteTime": {
     "end_time": "2025-02-20T22:33:41.500167Z",
     "start_time": "2025-02-20T22:33:41.491086Z"
    }
   },
   "outputs": [],
   "source": [
    "# embarked_mapping = {\"S\": 1, \"C\": 2, \"Q\": 3} defined above\n",
    "dftest['Embarked'] = dftest['Embarked'].map(embarked_mapping)\n",
    "\n",
    "dftest['Age'] = dftest['Age'].interpolate()\n",
    "dftest['Age_Group'] = pd.cut(dftest['Age'], bins=[0, 5, 19, 60, 80], labels=['1','2','3','4'])\n",
    "dftest['Age_Group'] = dftest['Age_Group'].astype(int)\n",
    "\n",
    "dftest['Cabin_Recorded'] = dftest['Cabin'].notnull().astype(int)\n",
    "dftest = dftest.drop('Cabin', axis=1)\n",
    "\n",
    "dftest['is_female'] = dftest['Sex'].apply(lambda x: 1 if x == 'female' else 0)\n",
    "dftest = dftest.drop('Sex', axis=1)\n",
    "\n"
   ]
  },
  {
   "cell_type": "code",
   "execution_count": 754,
   "id": "346daad71f3bde20",
   "metadata": {
    "ExecuteTime": {
     "end_time": "2025-02-20T22:33:41.542907Z",
     "start_time": "2025-02-20T22:33:41.532624Z"
    }
   },
   "outputs": [
    {
     "data": {
      "text/plain": [
       "Survived                         NaN\n",
       "PassengerId                     1044\n",
       "Pclass                             3\n",
       "Name              Storey, Mr. Thomas\n",
       "Age                             60.5\n",
       "SibSp                              0\n",
       "Parch                              0\n",
       "Ticket                          3701\n",
       "Fare                             NaN\n",
       "Embarked                           1\n",
       "Age_Group                          4\n",
       "Cabin_Recorded                     0\n",
       "is_female                          0\n",
       "Name: 152, dtype: object"
      ]
     },
     "execution_count": 754,
     "metadata": {},
     "output_type": "execute_result"
    }
   ],
   "source": [
    "dftest.iloc[152,]"
   ]
  },
  {
   "cell_type": "code",
   "execution_count": 755,
   "id": "44357c1f243f8fbb",
   "metadata": {
    "ExecuteTime": {
     "end_time": "2025-02-20T22:33:41.585292Z",
     "start_time": "2025-02-20T22:33:41.574028Z"
    }
   },
   "outputs": [],
   "source": [
    "dftest['Fare'] = dftest['Fare'].interpolate()\n",
    "dftest['Fare_Class'] = pd.qcut(dftest['Fare'], q=4, labels=['1', '2', '3', '4'])\n",
    "dftest['Fare_Class'] = dftest['Fare_Class'].astype(int)\n"
   ]
  },
  {
   "cell_type": "code",
   "execution_count": 756,
   "id": "6449eaf8337fa4d0",
   "metadata": {
    "ExecuteTime": {
     "end_time": "2025-02-20T22:33:41.616779Z",
     "start_time": "2025-02-20T22:33:41.608131Z"
    }
   },
   "outputs": [],
   "source": [
    "dftest['Title'] = dftest.Name.str.extract(' ([A-Za-z]+)\\.', expand=False)\n",
    "# title mapping defined above\n",
    "dftest['Title'] = dftest['Title'].map(title_mapping).fillna(\"Foreign\")\n",
    "\n",
    "dftest = pd.get_dummies(dftest, columns=['Title'], prefix='Title')\n",
    "\n",
    "dftest = dftest.drop(['Name', 'Ticket', 'Age', 'Fare'], axis=1)\n",
    "\n",
    "dftest['Male_3rd_Class'] = ((dftest['is_female'] == 0) & (dftest['Pclass'] == 3)).astype(int)"
   ]
  },
  {
   "cell_type": "code",
   "execution_count": 757,
   "id": "91d1e5c48220c8db",
   "metadata": {
    "ExecuteTime": {
     "end_time": "2025-02-20T22:33:41.640213Z",
     "start_time": "2025-02-20T22:33:41.630887Z"
    }
   },
   "outputs": [
    {
     "data": {
      "text/plain": [
       "Index(['PassengerId', 'Survived', 'Pclass', 'SibSp', 'Parch', 'Embarked',\n",
       "       'Age_Group', 'Cabin_Recorded', 'is_female', 'Fare_Class',\n",
       "       'Title_Clergy', 'Title_Doctor', 'Title_Foreign', 'Title_Master',\n",
       "       'Title_Military', 'Title_Miss', 'Title_Mr', 'Title_Mrs',\n",
       "       'Title_Royalty', 'Male_3rd_Class'],\n",
       "      dtype='object')"
      ]
     },
     "execution_count": 757,
     "metadata": {},
     "output_type": "execute_result"
    }
   ],
   "source": [
    "df.columns"
   ]
  },
  {
   "cell_type": "code",
   "execution_count": 758,
   "id": "ce278468b4ab493f",
   "metadata": {
    "ExecuteTime": {
     "end_time": "2025-02-20T22:33:41.663215Z",
     "start_time": "2025-02-20T22:33:41.660084Z"
    }
   },
   "outputs": [
    {
     "data": {
      "text/plain": [
       "Index(['Survived', 'PassengerId', 'Pclass', 'SibSp', 'Parch', 'Embarked',\n",
       "       'Age_Group', 'Cabin_Recorded', 'is_female', 'Fare_Class',\n",
       "       'Title_Clergy', 'Title_Doctor', 'Title_Foreign', 'Title_Master',\n",
       "       'Title_Military', 'Title_Miss', 'Title_Mr', 'Title_Mrs',\n",
       "       'Male_3rd_Class'],\n",
       "      dtype='object')"
      ]
     },
     "execution_count": 758,
     "metadata": {},
     "output_type": "execute_result"
    }
   ],
   "source": [
    "dftest.columns"
   ]
  },
  {
   "cell_type": "code",
   "execution_count": 759,
   "id": "6ec0b2e6d7e4b786",
   "metadata": {
    "ExecuteTime": {
     "end_time": "2025-02-20T22:33:41.696276Z",
     "start_time": "2025-02-20T22:33:41.692522Z"
    }
   },
   "outputs": [],
   "source": [
    "# Get the feature columns from training data (excluding the target variable)\n",
    "train_columns = df.drop(columns=[\"Survived\"]).columns  # Adjust if needed\n",
    "\n",
    "# Find missing columns in test data\n",
    "missing_cols = set(train_columns) - set(dftest.columns)\n",
    "\n",
    "# Add missing columns with default value 0\n",
    "for col in missing_cols:\n",
    "    dftest[col] = 0\n",
    "\n",
    "# Ensure the test set has the same column order as the training set\n",
    "dftest = dftest[train_columns]\n"
   ]
  },
  {
   "cell_type": "code",
   "execution_count": 760,
   "id": "b59fa7265938fde4",
   "metadata": {
    "ExecuteTime": {
     "end_time": "2025-02-20T22:33:41.729859Z",
     "start_time": "2025-02-20T22:33:41.723084Z"
    }
   },
   "outputs": [
    {
     "name": "stdout",
     "output_type": "stream",
     "text": [
      "<class 'pandas.core.frame.DataFrame'>\n",
      "RangeIndex: 418 entries, 0 to 417\n",
      "Data columns (total 19 columns):\n",
      " #   Column          Non-Null Count  Dtype\n",
      "---  ------          --------------  -----\n",
      " 0   PassengerId     418 non-null    int64\n",
      " 1   Pclass          418 non-null    int64\n",
      " 2   SibSp           418 non-null    int64\n",
      " 3   Parch           418 non-null    int64\n",
      " 4   Embarked        418 non-null    int64\n",
      " 5   Age_Group       418 non-null    int64\n",
      " 6   Cabin_Recorded  418 non-null    int64\n",
      " 7   is_female       418 non-null    int64\n",
      " 8   Fare_Class      418 non-null    int64\n",
      " 9   Title_Clergy    418 non-null    bool \n",
      " 10  Title_Doctor    418 non-null    bool \n",
      " 11  Title_Foreign   418 non-null    bool \n",
      " 12  Title_Master    418 non-null    bool \n",
      " 13  Title_Military  418 non-null    bool \n",
      " 14  Title_Miss      418 non-null    bool \n",
      " 15  Title_Mr        418 non-null    bool \n",
      " 16  Title_Mrs       418 non-null    bool \n",
      " 17  Title_Royalty   418 non-null    int64\n",
      " 18  Male_3rd_Class  418 non-null    int64\n",
      "dtypes: bool(8), int64(11)\n",
      "memory usage: 39.3 KB\n"
     ]
    }
   ],
   "source": [
    "dftest.info()"
   ]
  },
  {
   "cell_type": "code",
   "execution_count": 761,
   "id": "4a54767eb0645794",
   "metadata": {
    "ExecuteTime": {
     "end_time": "2025-02-20T22:33:41.754968Z",
     "start_time": "2025-02-20T22:33:41.749796Z"
    }
   },
   "outputs": [],
   "source": [
    "# Scale test data & predict\n",
    "dftest_scaled = scaler.fit_transform(dftest)\n",
    "survived_predictions = best_model.predict(dftest_scaled)"
   ]
  },
  {
   "cell_type": "code",
   "execution_count": 762,
   "id": "3c22a583971f540",
   "metadata": {
    "ExecuteTime": {
     "end_time": "2025-02-20T22:33:41.793418Z",
     "start_time": "2025-02-20T22:33:41.783233Z"
    }
   },
   "outputs": [],
   "source": [
    "test=pd.read_csv('Assignment_3/Titanic_Survival/holdout_test.csv')\n",
    "predict = pd.DataFrame({\n",
    "        \"PassengerId\": test[\"PassengerId\"],\n",
    "        \"Survived\": survived_predictions\n",
    "    })"
   ]
  },
  {
   "cell_type": "code",
   "execution_count": 763,
   "id": "a987107294ad2e9c",
   "metadata": {
    "ExecuteTime": {
     "end_time": "2025-02-20T22:33:41.845928Z",
     "start_time": "2025-02-20T22:33:41.843094Z"
    }
   },
   "outputs": [],
   "source": [
    "# Save predictions as .csv file\n",
    "predict.to_csv('Titanic Results from anasyquia.csv', index=False)"
   ]
  },
  {
   "cell_type": "code",
   "execution_count": 764,
   "id": "a27fe96deaa0fd8",
   "metadata": {
    "ExecuteTime": {
     "end_time": "2025-02-20T22:33:41.966813Z",
     "start_time": "2025-02-20T22:33:41.881448Z"
    }
   },
   "outputs": [
    {
     "data": {
      "text/plain": [
       "<Axes: >"
      ]
     },
     "execution_count": 764,
     "metadata": {},
     "output_type": "execute_result"
    },
    {
     "data": {
      "image/png": "[encoded data removed]",
      "text/plain": [
       "<Figure size 640x480 with 1 Axes>"
      ]
     },
     "metadata": {},
     "output_type": "display_data"
    }
   ],
   "source": [
    "# Visualize predictions\n",
    "predict['Survived'].hist()"
   ]
  },
  {
   "cell_type": "code",
   "execution_count": null,
   "id": "1de726eff29b11",
   "metadata": {
    "ExecuteTime": {
     "end_time": "2025-02-20T22:33:41.975487Z",
     "start_time": "2025-02-20T22:33:41.973341Z"
    }
   },
   "outputs": [],
   "source": []
  }
 ],
 "metadata": {
  "kernelspec": {
   "display_name": "Python 3 (ipykernel)",
   "language": "python",
   "name": "python3"
  },
  "language_info": {
   "codemirror_mode": {
    "name": "ipython",
    "version": 3
   },
   "file_extension": ".py",
   "mimetype": "text/x-python",
   "name": "python",
   "nbconvert_exporter": "python",
   "pygments_lexer": "ipython3",
   "version": "3.11.0"
  }
 },
 "nbformat": 4,
 "nbformat_minor": 5
}
